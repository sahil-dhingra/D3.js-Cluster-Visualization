{
 "cells": [
  {
   "cell_type": "markdown",
   "metadata": {},
   "source": [
    "# 1. Importing data and setting up"
   ]
  },
  {
   "cell_type": "code",
   "execution_count": 0,
   "metadata": {
    "colab": {},
    "colab_type": "code",
    "collapsed": true,
    "id": "Gsy53rzUnJtg"
   },
   "outputs": [],
   "source": [
    "import pandas as pd\n",
    "import numpy as np\n",
    "import matplotlib.pyplot as plt\n",
    "import sklearn as skl"
   ]
  },
  {
   "cell_type": "code",
   "execution_count": 0,
   "metadata": {
    "colab": {
     "base_uri": "https://localhost:8080/",
     "height": 121
    },
    "colab_type": "code",
    "id": "80DJKsL0KmiM",
    "outputId": "8588a31e-629c-463b-a9da-64e6ace3057f"
   },
   "outputs": [
    {
     "name": "stdout",
     "output_type": "stream",
     "text": [
      "Go to this URL in a browser: https://accounts.google.com/o/oauth2/auth?client_id=947318989803-6bn6qk8qdgf4n4g3pfee6491hc0brc4i.apps.googleusercontent.com&redirect_uri=urn%3aietf%3awg%3aoauth%3a2.0%3aoob&response_type=code&scope=email%20https%3a%2f%2fwww.googleapis.com%2fauth%2fdocs.test%20https%3a%2f%2fwww.googleapis.com%2fauth%2fdrive%20https%3a%2f%2fwww.googleapis.com%2fauth%2fdrive.photos.readonly%20https%3a%2f%2fwww.googleapis.com%2fauth%2fpeopleapi.readonly\n",
      "\n",
      "Enter your authorization code:\n",
      "··········\n",
      "Mounted at /content/drive\n"
     ]
    }
   ],
   "source": [
    "from google.colab import drive\n",
    "drive.mount('/content/drive')"
   ]
  },
  {
   "cell_type": "code",
   "execution_count": 0,
   "metadata": {
    "colab": {
     "base_uri": "https://localhost:8080/",
     "height": 50
    },
    "colab_type": "code",
    "id": "8IQ6k3Um26WD",
    "outputId": "3cd0d041-7a2a-4aa5-9c36-6f98689839d6",
    "scrolled": true
   },
   "outputs": [
    {
     "name": "stdout",
     "output_type": "stream",
     "text": [
      "Archive:  drive/My Drive/HRS.zip\n",
      "  inflating: HRS.csv                 \n"
     ]
    }
   ],
   "source": [
    "!unzip '/content/drive/My Drive/OMSCS/DVA/HRS.zip' "
   ]
  },
  {
   "cell_type": "code",
   "execution_count": 0,
   "metadata": {
    "colab": {
     "base_uri": "https://localhost:8080/",
     "height": 70
    },
    "colab_type": "code",
    "id": "_SAtEFBU2wqK",
    "outputId": "619d2458-ab3c-4242-fc0b-29d2546c5eb9"
   },
   "outputs": [
    {
     "name": "stderr",
     "output_type": "stream",
     "text": [
      "/usr/local/lib/python3.6/dist-packages/IPython/core/interactiveshell.py:2718: DtypeWarning: Columns (1267,1268,1270,1276,1279) have mixed types.Specify dtype option on import or set low_memory=False.\n",
      "  interactivity=interactivity, compiler=compiler, result=result)\n"
     ]
    }
   ],
   "source": [
    "df = pd.read_csv(\"HRS.csv\")"
   ]
  },
  {
   "cell_type": "code",
   "execution_count": 0,
   "metadata": {
    "colab": {},
    "colab_type": "code",
    "collapsed": true,
    "id": "gjeagHFLAfak"
   },
   "outputs": [],
   "source": [
    "psid = pd.read_csv(\"/content/drive/My Drive/OMSCS/DVA/psid_data_withwaveyear.csv\")"
   ]
  },
  {
   "cell_type": "markdown",
   "metadata": {},
   "source": [
    "# 2. Custom variables"
   ]
  },
  {
   "cell_type": "code",
   "execution_count": 0,
   "metadata": {
    "colab": {},
    "colab_type": "code",
    "collapsed": true,
    "id": "tqGOsWrbCeC0"
   },
   "outputs": [],
   "source": [
    "for i in range(13):\n",
    "  i = i + 1\n",
    "  df['NHFW'+str(i)] = df['H'+str(i)+'ASTCK'] + df['H'+str(i)+'ACHCK'] + df['H'+str(i)+'ACD'] + df['H'+str(i)+'ABOND'] \\\n",
    "   + df['H'+str(i)+'AOTHR'] - df['H'+str(i)+'ADEBT']\n",
    "  df['TW'+str(i)] = df['H'+str(i)+'AHOUS'] + df['H'+str(i)+'ARLES'] + df['H'+str(i)+'ATRAN'] + df['H'+str(i)+'ABSNS'] + \\\n",
    "  df['H'+str(i)+'AIRA'] + df['H'+str(i)+'ASTCK'] + df['H'+str(i)+'ACHCK'] + df['H'+str(i)+'ACD'] + df['H'+str(i)+'ABOND'] \\\n",
    "  + df['H'+str(i)+'AOTHR'] - (df['H'+str(i)+'AMORT'] + df['H'+str(i)+'AHMLN'] + df['H'+str(i)+'ADEBT'])\n",
    "  df['NHW'+str(i)] = df['H'+str(i)+'ARLES'] + df['H'+str(i)+'ATRAN'] + df['H'+str(i)+'ABSNS'] + df['H'+str(i)+'AIRA'] + \\\n",
    "  df['H'+str(i)+'ASTCK'] + df['H'+str(i)+'ACHCK'] + df['H'+str(i)+'ACD'] + df['H'+str(i)+'ABOND'] + \\\n",
    "  df['H'+str(i)+'AOTHR'] - df['H'+str(i)+'ADEBT']"
   ]
  },
  {
   "cell_type": "markdown",
   "metadata": {
    "colab_type": "text",
    "id": "zzBRvegUHX5I"
   },
   "source": [
    "# 3. EDA - Single wave"
   ]
  },
  {
   "cell_type": "code",
   "execution_count": 0,
   "metadata": {
    "colab": {},
    "colab_type": "code",
    "collapsed": true,
    "id": "VHns1TnT5xbK"
   },
   "outputs": [],
   "source": [
    "data1 = df[['HHIDPN', 'R1AGEY_B','RAGENDER','RAEDYRS', 'R1MSTAT', 'R1IWSTAT', 'R1SHLT', 'R2OOPMD', 'H1ASTCK', 'H1ACHCK', 'H1ACD', \\\n",
    "'H1ABOND', 'H1AOTHR', 'H1ADEBT', 'H1AHOUS', 'H1ARLES', 'H1ATRAN', 'H1ABSNS', 'H1AIRA', 'H1AMORT','H1AHMLN','H1ATOTN','H1ITOT', 'H1ATOTA']]"
   ]
  },
  {
   "cell_type": "markdown",
   "metadata": {},
   "source": [
    "### Dropping data points with Null health and wealth indicators "
   ]
  },
  {
   "cell_type": "code",
   "execution_count": 0,
   "metadata": {
    "colab": {},
    "colab_type": "code",
    "collapsed": true,
    "id": "E1yCA4hZ_S6o"
   },
   "outputs": [],
   "source": [
    "data1 = df[df.H1ASTCK.notnull() & df.R1AGEY_B.notnull() & df.TW1.notnull() & df.R1SHLT.notnull()].reset_index(drop=True)"
   ]
  },
  {
   "cell_type": "markdown",
   "metadata": {},
   "source": [
    "### Correlation between total wealth and primary health (all waves)"
   ]
  },
  {
   "cell_type": "code",
   "execution_count": 0,
   "metadata": {
    "colab": {
     "base_uri": "https://localhost:8080/",
     "height": 50
    },
    "colab_type": "code",
    "id": "JIM_YB0FcQF0",
    "outputId": "1d581f6f-453a-4b7e-9fa0-eba6d4a6cdbe"
   },
   "outputs": [
    {
     "data": {
      "text/plain": [
       "array([[ 1.       , -0.1536889],\n",
       "       [-0.1536889,  1.       ]])"
      ]
     },
     "execution_count": 222,
     "metadata": {
      "tags": []
     },
     "output_type": "execute_result"
    }
   ],
   "source": [
    "np.corrcoef(data1.TW1, data1.R1SHLT)"
   ]
  },
  {
   "cell_type": "markdown",
   "metadata": {},
   "source": [
    "## 3.1 Distribution of wealth across self-reported health categories (1=\"excellent\" to 5=\"poor\")"
   ]
  },
  {
   "cell_type": "code",
   "execution_count": 0,
   "metadata": {
    "colab": {
     "base_uri": "https://localhost:8080/",
     "height": 281
    },
    "colab_type": "code",
    "id": "ZBZq5UZEv5ym",
    "outputId": "cd48c152-9ce5-4a4f-8c42-e0b8d67b5987"
   },
   "outputs": [
    {
     "data": {
      "image/png": "[encoded data removed]",
      "text/plain": [
       "<Figure size 432x288 with 1 Axes>"
      ]
     },
     "metadata": {
      "tags": []
     },
     "output_type": "display_data"
    }
   ],
   "source": [
    "x = data1.TW1\n",
    "y = data1.R1SHLT\n",
    "per =  np.percentile(x, np.arange(0, 100, 10))\n",
    "per = np.append(per,x.max())\n",
    "data = []\n",
    "# for i in range(10):\n",
    "#   data.append(y[(x>per[i]) & (x<=per[i+1])])\n",
    "for i in range(5):\n",
    "  data.append(x[y==i+1])\n",
    "fig7, ax7 = plt.subplots()\n",
    "\n",
    "ax7.set_title('Total wealth vs self-reported health')\n",
    "ax7.boxplot(data)\n",
    "\n",
    "plt.ylim(-71000,750000)\n",
    "\n",
    "plt.show()"
   ]
  },
  {
   "cell_type": "code",
   "execution_count": 0,
   "metadata": {
    "colab": {
     "base_uri": "https://localhost:8080/",
     "height": 281
    },
    "colab_type": "code",
    "id": "T9C4dmkqi-uk",
    "outputId": "2c7d396b-26ef-4c52-eada-786d08f11ce1"
   },
   "outputs": [
    {
     "data": {
      "image/png": "[encoded data removed]",
      "text/plain": [
       "<Figure size 432x288 with 1 Axes>"
      ]
     },
     "metadata": {
      "tags": []
     },
     "output_type": "display_data"
    }
   ],
   "source": [
    "x = data1.TW1\n",
    "y = data1.R1SHLT\n",
    "per =  np.percentile(x, np.arange(0, 100, 10))\n",
    "per = np.append(per,x.max())\n",
    "data = []\n",
    "for i in range(10):\n",
    "  data.append(y[(x>per[i]) & (x<=per[i+1])])\n",
    "fig7, ax7 = plt.subplots()\n",
    "\n",
    "ax7.set_title('Multiple Samples with Different sizes')\n",
    "ax7.boxplot(data)\n",
    "\n",
    "\n",
    "plt.show()"
   ]
  },
  {
   "cell_type": "code",
   "execution_count": 0,
   "metadata": {
    "colab": {
     "base_uri": "https://localhost:8080/",
     "height": 293
    },
    "colab_type": "code",
    "id": "yKYc_ob1WdAg",
    "outputId": "0e6dad7b-643d-4f0e-c2e6-45dd9dbb81fb",
    "scrolled": true
   },
   "outputs": [
    {
     "data": {
      "text/plain": [
       "<matplotlib.collections.PathCollection at 0x7fc3c940b080>"
      ]
     },
     "execution_count": 28,
     "metadata": {
      "tags": []
     },
     "output_type": "execute_result"
    },
    {
     "data": {
      "image/png": "[encoded data removed]",
      "text/plain": [
       "<Figure size 432x288 with 1 Axes>"
      ]
     },
     "metadata": {
      "tags": []
     },
     "output_type": "display_data"
    }
   ],
   "source": [
    "plt.scatter(y,x)"
   ]
  },
  {
   "cell_type": "markdown",
   "metadata": {},
   "source": [
    "# 4. Data preprocessing"
   ]
  },
  {
   "cell_type": "code",
   "execution_count": 0,
   "metadata": {
    "colab": {},
    "colab_type": "code",
    "collapsed": true,
    "id": "BegOKjuyeESZ"
   },
   "outputs": [],
   "source": [
    "from sklearn.preprocessing import LabelEncoder\n",
    "\n",
    "LE = LabelEncoder()\n",
    "data1['R1IWSTAT'] = LE.fit_transform(data1['R1IWSTAT'])"
   ]
  },
  {
   "cell_type": "code",
   "execution_count": 0,
   "metadata": {
    "colab": {},
    "colab_type": "code",
    "collapsed": true,
    "id": "rB0XGeZLsiFh"
   },
   "outputs": [],
   "source": [
    "data1['R1MSTAT'] = 1*data1['R1MSTAT'].isin([1,3])\n",
    "data1['RAGENDER'] = 1*(data1['RAGENDER']==2)"
   ]
  },
  {
   "cell_type": "code",
   "execution_count": 0,
   "metadata": {
    "colab": {},
    "colab_type": "code",
    "collapsed": true,
    "id": "lGVkIGLadPQ_"
   },
   "outputs": [],
   "source": [
    "from sklearn.preprocessing import StandardScaler\n",
    "scaler = StandardScaler()\n",
    "# scaler.fit(data1[['R1SHLT','R1AGEY_B','RAGENDER','RAEDYRS', 'R1MSTAT', 'R1IWSTAT','H1ITOT','NHFW1','TW1','NHW1']])\n",
    "# d1_scaled = scaler.transform(data1[['R1SHLT','R1AGEY_B','RAGENDER','RAEDYRS', 'R1MSTAT', 'R1IWSTAT','H1ITOT','NHFW1','TW1','NHW1']])\n",
    "\n",
    "scaler.fit(data1[['R1SHLT','R1AGEY_B','RAGENDER','RAEDYRS', 'R1MSTAT','H1ITOT','TW1']])\n",
    "d1_scaled = scaler.transform(data1[['R1SHLT','R1AGEY_B','RAGENDER','RAEDYRS', 'R1MSTAT','H1ITOT','TW1']])"
   ]
  },
  {
   "cell_type": "markdown",
   "metadata": {},
   "source": [
    "## 4.1 KMeans clustering - finding elbow"
   ]
  },
  {
   "cell_type": "code",
   "execution_count": 0,
   "metadata": {
    "colab": {},
    "colab_type": "code",
    "collapsed": true,
    "id": "iHzOjvLTjQ4D"
   },
   "outputs": [],
   "source": [
    "from sklearn.cluster import KMeans"
   ]
  },
  {
   "cell_type": "code",
   "execution_count": 0,
   "metadata": {
    "colab": {},
    "colab_type": "code",
    "collapsed": true,
    "id": "1axMu9i5r8Ow"
   },
   "outputs": [],
   "source": [
    "Ks = range(1, 10)\n",
    "km = [KMeans(n_clusters=i) for i in Ks]\n",
    "score = [km[i].fit(d1_scaled).score(d1_scaled) for i in range(len(km))]"
   ]
  },
  {
   "cell_type": "code",
   "execution_count": 0,
   "metadata": {
    "colab": {
     "base_uri": "https://localhost:8080/",
     "height": 282
    },
    "colab_type": "code",
    "id": "I344aMEksD3t",
    "outputId": "6654d62a-1df7-4a66-dfd7-9b9ebdd28a40"
   },
   "outputs": [
    {
     "data": {
      "text/plain": [
       "[<matplotlib.lines.Line2D at 0x7f8a1814ab38>]"
      ]
     },
     "execution_count": 228,
     "metadata": {
      "tags": []
     },
     "output_type": "execute_result"
    },
    {
     "data": {
      "image/png": "[encoded data removed]",
      "text/plain": [
       "<Figure size 432x288 with 1 Axes>"
      ]
     },
     "metadata": {
      "needs_background": "light",
      "tags": []
     },
     "output_type": "display_data"
    }
   ],
   "source": [
    "plt.plot(Ks, score)"
   ]
  },
  {
   "cell_type": "markdown",
   "metadata": {},
   "source": [
    "## 4.2 KMeans - dividing data into 5 clusters"
   ]
  },
  {
   "cell_type": "code",
   "execution_count": 0,
   "metadata": {
    "colab": {},
    "colab_type": "code",
    "collapsed": true,
    "id": "v4Wgfj42jWIb"
   },
   "outputs": [],
   "source": [
    "num_clusters = 5\n",
    "cluster = KMeans(n_clusters = num_clusters)\n",
    "idx = cluster.fit_predict(d1_scaled)"
   ]
  },
  {
   "cell_type": "code",
   "execution_count": 0,
   "metadata": {
    "colab": {
     "base_uri": "https://localhost:8080/",
     "height": 195
    },
    "colab_type": "code",
    "id": "74Hs8s05nZLH",
    "outputId": "c6915b56-d0d1-47b0-cd81-f87eb9f306ce"
   },
   "outputs": [
    {
     "data": {
      "text/html": [
       "<div>\n",
       "<style scoped>\n",
       "    .dataframe tbody tr th:only-of-type {\n",
       "        vertical-align: middle;\n",
       "    }\n",
       "\n",
       "    .dataframe tbody tr th {\n",
       "        vertical-align: top;\n",
       "    }\n",
       "\n",
       "    .dataframe thead th {\n",
       "        text-align: right;\n",
       "    }\n",
       "</style>\n",
       "<table border=\"1\" class=\"dataframe\">\n",
       "  <thead>\n",
       "    <tr style=\"text-align: right;\">\n",
       "      <th></th>\n",
       "      <th>Health</th>\n",
       "      <th>Age</th>\n",
       "      <th>Gender</th>\n",
       "      <th>Year Edu</th>\n",
       "      <th>Married</th>\n",
       "      <th>Income</th>\n",
       "      <th>Total Wealth</th>\n",
       "    </tr>\n",
       "  </thead>\n",
       "  <tbody>\n",
       "    <tr>\n",
       "      <th>0</th>\n",
       "      <td>1.9</td>\n",
       "      <td>55.5</td>\n",
       "      <td>0.5</td>\n",
       "      <td>14.5</td>\n",
       "      <td>0.9</td>\n",
       "      <td>222816.2</td>\n",
       "      <td>2448150.0</td>\n",
       "    </tr>\n",
       "    <tr>\n",
       "      <th>1</th>\n",
       "      <td>2.9</td>\n",
       "      <td>55.6</td>\n",
       "      <td>0.7</td>\n",
       "      <td>11.9</td>\n",
       "      <td>0.0</td>\n",
       "      <td>21582.7</td>\n",
       "      <td>77622.3</td>\n",
       "    </tr>\n",
       "    <tr>\n",
       "      <th>2</th>\n",
       "      <td>3.9</td>\n",
       "      <td>58.1</td>\n",
       "      <td>0.4</td>\n",
       "      <td>8.2</td>\n",
       "      <td>1.0</td>\n",
       "      <td>25097.2</td>\n",
       "      <td>80030.2</td>\n",
       "    </tr>\n",
       "    <tr>\n",
       "      <th>3</th>\n",
       "      <td>2.2</td>\n",
       "      <td>52.3</td>\n",
       "      <td>1.0</td>\n",
       "      <td>12.8</td>\n",
       "      <td>1.0</td>\n",
       "      <td>53247.0</td>\n",
       "      <td>197059.4</td>\n",
       "    </tr>\n",
       "    <tr>\n",
       "      <th>4</th>\n",
       "      <td>2.1</td>\n",
       "      <td>56.6</td>\n",
       "      <td>0.0</td>\n",
       "      <td>13.5</td>\n",
       "      <td>1.0</td>\n",
       "      <td>57481.0</td>\n",
       "      <td>219072.3</td>\n",
       "    </tr>\n",
       "  </tbody>\n",
       "</table>\n",
       "</div>"
      ],
      "text/plain": [
       "   Health   Age  Gender  Year Edu  Married    Income  Total Wealth\n",
       "0     1.9  55.5     0.5      14.5      0.9  222816.2     2448150.0\n",
       "1     2.9  55.6     0.7      11.9      0.0   21582.7       77622.3\n",
       "2     3.9  58.1     0.4       8.2      1.0   25097.2       80030.2\n",
       "3     2.2  52.3     1.0      12.8      1.0   53247.0      197059.4\n",
       "4     2.1  56.6     0.0      13.5      1.0   57481.0      219072.3"
      ]
     },
     "execution_count": 263,
     "metadata": {
      "tags": []
     },
     "output_type": "execute_result"
    }
   ],
   "source": [
    "c = pd.DataFrame(scaler.inverse_transform(cluster.cluster_centers_))\n",
    "c.columns = [\"Health\", \"Age\",\"Gender\",\"Year Edu\", \"Married\", \"Income\", \"Total Wealth\"] \n",
    "round(c, 1)"
   ]
  },
  {
   "cell_type": "code",
   "execution_count": 0,
   "metadata": {
    "colab": {},
    "colab_type": "code",
    "collapsed": true,
    "id": "IW9lMUYVxTW2"
   },
   "outputs": [],
   "source": [
    "cluster_map = pd.concat([data1.HHIDPN, pd.Series(idx)], axis=1).rename(columns={0:'idx'})"
   ]
  },
  {
   "cell_type": "code",
   "execution_count": 0,
   "metadata": {
    "colab": {
     "base_uri": "https://localhost:8080/",
     "height": 118
    },
    "colab_type": "code",
    "id": "pKWcWYeP6g7s",
    "outputId": "8bd1c5a9-ce17-49ea-970b-dbcc6232973f"
   },
   "outputs": [
    {
     "data": {
      "text/plain": [
       "3    4186\n",
       "4    3544\n",
       "1    2342\n",
       "2    2283\n",
       "0     296\n",
       "Name: idx, dtype: int64"
      ]
     },
     "execution_count": 265,
     "metadata": {
      "tags": []
     },
     "output_type": "execute_result"
    }
   ],
   "source": [
    "cluster_map.idx.value_counts()"
   ]
  },
  {
   "cell_type": "code",
   "execution_count": 0,
   "metadata": {
    "colab": {
     "base_uri": "https://localhost:8080/",
     "height": 225
    },
    "colab_type": "code",
    "id": "Q7gmwQXwwoma",
    "outputId": "2c96dce9-9234-4cc6-e473-e1d55c9e8c67"
   },
   "outputs": [
    {
     "data": {
      "text/html": [
       "<div>\n",
       "<style scoped>\n",
       "    .dataframe tbody tr th:only-of-type {\n",
       "        vertical-align: middle;\n",
       "    }\n",
       "\n",
       "    .dataframe tbody tr th {\n",
       "        vertical-align: top;\n",
       "    }\n",
       "\n",
       "    .dataframe thead th {\n",
       "        text-align: right;\n",
       "    }\n",
       "</style>\n",
       "<table border=\"1\" class=\"dataframe\">\n",
       "  <thead>\n",
       "    <tr style=\"text-align: right;\">\n",
       "      <th></th>\n",
       "      <th>R1AGEY_B</th>\n",
       "      <th>RAGENDER</th>\n",
       "      <th>RAEDYRS</th>\n",
       "      <th>R1MSTAT</th>\n",
       "      <th>R1IWSTAT</th>\n",
       "      <th>H1ITOT</th>\n",
       "      <th>NHFW1</th>\n",
       "      <th>TW1</th>\n",
       "      <th>NHW1</th>\n",
       "    </tr>\n",
       "    <tr>\n",
       "      <th>R1SHLT</th>\n",
       "      <th></th>\n",
       "      <th></th>\n",
       "      <th></th>\n",
       "      <th></th>\n",
       "      <th></th>\n",
       "      <th></th>\n",
       "      <th></th>\n",
       "      <th></th>\n",
       "      <th></th>\n",
       "    </tr>\n",
       "  </thead>\n",
       "  <tbody>\n",
       "    <tr>\n",
       "      <th>1.0</th>\n",
       "      <td>54.264339</td>\n",
       "      <td>0.545422</td>\n",
       "      <td>13.220164</td>\n",
       "      <td>0.846455</td>\n",
       "      <td>0.0</td>\n",
       "      <td>65056.657998</td>\n",
       "      <td>71314.027306</td>\n",
       "      <td>311231.421106</td>\n",
       "      <td>226778.398839</td>\n",
       "    </tr>\n",
       "    <tr>\n",
       "      <th>2.0</th>\n",
       "      <td>54.977305</td>\n",
       "      <td>0.546969</td>\n",
       "      <td>12.837690</td>\n",
       "      <td>0.840563</td>\n",
       "      <td>0.0</td>\n",
       "      <td>55291.214881</td>\n",
       "      <td>68865.904120</td>\n",
       "      <td>263837.052067</td>\n",
       "      <td>193860.915037</td>\n",
       "    </tr>\n",
       "    <tr>\n",
       "      <th>3.0</th>\n",
       "      <td>55.534989</td>\n",
       "      <td>0.517777</td>\n",
       "      <td>11.692720</td>\n",
       "      <td>0.819131</td>\n",
       "      <td>0.0</td>\n",
       "      <td>42506.883747</td>\n",
       "      <td>37414.388227</td>\n",
       "      <td>171819.704319</td>\n",
       "      <td>117677.086462</td>\n",
       "    </tr>\n",
       "    <tr>\n",
       "      <th>4.0</th>\n",
       "      <td>56.108467</td>\n",
       "      <td>0.552297</td>\n",
       "      <td>10.566132</td>\n",
       "      <td>0.739347</td>\n",
       "      <td>0.0</td>\n",
       "      <td>29474.258993</td>\n",
       "      <td>27531.102042</td>\n",
       "      <td>120569.038860</td>\n",
       "      <td>78318.359946</td>\n",
       "    </tr>\n",
       "    <tr>\n",
       "      <th>5.0</th>\n",
       "      <td>56.441700</td>\n",
       "      <td>0.509881</td>\n",
       "      <td>9.597826</td>\n",
       "      <td>0.671937</td>\n",
       "      <td>0.0</td>\n",
       "      <td>21069.083004</td>\n",
       "      <td>11196.053412</td>\n",
       "      <td>70355.628405</td>\n",
       "      <td>39144.129898</td>\n",
       "    </tr>\n",
       "  </tbody>\n",
       "</table>\n",
       "</div>"
      ],
      "text/plain": [
       "         R1AGEY_B  RAGENDER  ...            TW1           NHW1\n",
       "R1SHLT                       ...                              \n",
       "1.0     54.264339  0.545422  ...  311231.421106  226778.398839\n",
       "2.0     54.977305  0.546969  ...  263837.052067  193860.915037\n",
       "3.0     55.534989  0.517777  ...  171819.704319  117677.086462\n",
       "4.0     56.108467  0.552297  ...  120569.038860   78318.359946\n",
       "5.0     56.441700  0.509881  ...   70355.628405   39144.129898\n",
       "\n",
       "[5 rows x 9 columns]"
      ]
     },
     "execution_count": 179,
     "metadata": {
      "tags": []
     },
     "output_type": "execute_result"
    }
   ],
   "source": [
    "data1[['R1SHLT','R1AGEY_B','RAGENDER','RAEDYRS', 'R1MSTAT', 'R1IWSTAT','H1ITOT','NHFW1','TW1','NHW1']].groupby(\"R1SHLT\").mean()"
   ]
  },
  {
   "cell_type": "code",
   "execution_count": 0,
   "metadata": {
    "colab": {
     "base_uri": "https://localhost:8080/",
     "height": 521
    },
    "colab_type": "code",
    "id": "-21mOdIzzYm3",
    "outputId": "068c3cf3-c9f1-4466-cce1-80eb0b220651"
   },
   "outputs": [
    {
     "name": "stderr",
     "output_type": "stream",
     "text": [
      "/usr/local/lib/python3.6/dist-packages/ipykernel_launcher.py:8: SettingWithCopyWarning: \n",
      "A value is trying to be set on a copy of a slice from a DataFrame.\n",
      "Try using .loc[row_indexer,col_indexer] = value instead\n",
      "\n",
      "See the caveats in the documentation: https://pandas.pydata.org/pandas-docs/stable/user_guide/indexing.html#returning-a-view-versus-a-copy\n",
      "  \n",
      "/usr/local/lib/python3.6/dist-packages/ipykernel_launcher.py:9: SettingWithCopyWarning: \n",
      "A value is trying to be set on a copy of a slice from a DataFrame.\n",
      "Try using .loc[row_indexer,col_indexer] = value instead\n",
      "\n",
      "See the caveats in the documentation: https://pandas.pydata.org/pandas-docs/stable/user_guide/indexing.html#returning-a-view-versus-a-copy\n",
      "  if __name__ == '__main__':\n",
      "/usr/local/lib/python3.6/dist-packages/ipykernel_launcher.py:10: SettingWithCopyWarning: \n",
      "A value is trying to be set on a copy of a slice from a DataFrame.\n",
      "Try using .loc[row_indexer,col_indexer] = value instead\n",
      "\n",
      "See the caveats in the documentation: https://pandas.pydata.org/pandas-docs/stable/user_guide/indexing.html#returning-a-view-versus-a-copy\n",
      "  # Remove the CWD from sys.path while we load stuff.\n",
      "/usr/local/lib/python3.6/dist-packages/ipykernel_launcher.py:11: SettingWithCopyWarning: \n",
      "A value is trying to be set on a copy of a slice from a DataFrame.\n",
      "Try using .loc[row_indexer,col_indexer] = value instead\n",
      "\n",
      "See the caveats in the documentation: https://pandas.pydata.org/pandas-docs/stable/user_guide/indexing.html#returning-a-view-versus-a-copy\n",
      "  # This is added back by InteractiveShellApp.init_path()\n",
      "/usr/local/lib/python3.6/dist-packages/ipykernel_launcher.py:12: SettingWithCopyWarning: \n",
      "A value is trying to be set on a copy of a slice from a DataFrame.\n",
      "Try using .loc[row_indexer,col_indexer] = value instead\n",
      "\n",
      "See the caveats in the documentation: https://pandas.pydata.org/pandas-docs/stable/user_guide/indexing.html#returning-a-view-versus-a-copy\n",
      "  if sys.path[0] == '':\n"
     ]
    }
   ],
   "source": [
    "var = df[['HHIDPN','RAGENDER']]\n",
    "var1 = df[['HHIDPN','RAGENDER']]\n",
    "var2 = df[['HHIDPN','RAGENDER']]\n",
    "var4 = df[['HHIDPN','RAGENDER']]\n",
    "var6 = df[['HHIDPN','RAGENDER']]\n",
    "for i in range(13):\n",
    "  i=i+1\n",
    "  var['H' + str(i) + 'ITOT'] = df['H' + str(i) + 'ITOT']\n",
    "  var1['R' + str(i) + 'SHLT'] = df['R' + str(i) + 'SHLT']\n",
    "  var2['R' + str(i) + 'AGEY_B'] = df['R' + str(i) + 'AGEY_B']\n",
    "  var4['TW' + str(i)] =  df['TW' + str(i)]\n",
    "  var6['R' + str(i) + 'MSTAT'] = df['R' + str(i) + 'MSTAT'] "
   ]
  },
  {
   "cell_type": "code",
   "execution_count": 0,
   "metadata": {
    "colab": {},
    "colab_type": "code",
    "collapsed": true,
    "id": "RwEr9j0VzYnD"
   },
   "outputs": [],
   "source": [
    "data = df[['HHIDPN','RAEDYRS','RAEDYRS']]"
   ]
  },
  {
   "cell_type": "code",
   "execution_count": 0,
   "metadata": {
    "colab": {},
    "colab_type": "code",
    "collapsed": true,
    "id": "2TQCPUyKzYnG"
   },
   "outputs": [],
   "source": [
    "data2 = var.melt(id_vars = ['HHIDPN','RAGENDER'], var_name='income_var', value_name='income')\n",
    "data2 = pd.concat([data2, var1.melt(id_vars = ['HHIDPN','RAGENDER'], var_name='health_var', value_name='health')], axis=1)\n",
    "data2 = pd.concat([data2, var2.melt(id_vars = ['HHIDPN','RAGENDER'], var_name='age_var', value_name='age')], axis=1)\n",
    "data2 = pd.concat([data2, var4.melt(id_vars = ['HHIDPN','RAGENDER'], var_name='tw_var', value_name='tw')], axis=1)  \n",
    "data2 = pd.concat([data2, var6.melt(id_vars = ['HHIDPN','RAGENDER'], var_name='married_var', value_name='married')], axis=1)\n",
    "data2 = data2.iloc[:,~data2.columns.duplicated()]\n",
    "data = pd.merge(data, data2, on='HHIDPN')"
   ]
  },
  {
   "cell_type": "code",
   "execution_count": 0,
   "metadata": {
    "colab": {},
    "colab_type": "code",
    "collapsed": true,
    "id": "y0nDVcHozYnJ"
   },
   "outputs": [],
   "source": [
    "data = data[data.income.notnull()].reset_index(drop=True)"
   ]
  },
  {
   "cell_type": "code",
   "execution_count": 0,
   "metadata": {
    "colab": {},
    "colab_type": "code",
    "collapsed": true,
    "id": "9H8LpfSd1wb6"
   },
   "outputs": [],
   "source": [
    "data['married'] = 1*data['married'].isin([1,3])\n",
    "data['RAGENDER'] = 1*(data['RAGENDER']==2)"
   ]
  },
  {
   "cell_type": "code",
   "execution_count": 0,
   "metadata": {
    "colab": {},
    "colab_type": "code",
    "collapsed": true,
    "id": "tmKKBZtY5q8B"
   },
   "outputs": [],
   "source": [
    "data['wave'] = data.health_var.str[1:3].map(lambda x: x.rstrip('S')).astype(int)"
   ]
  },
  {
   "cell_type": "code",
   "execution_count": 0,
   "metadata": {
    "colab": {},
    "colab_type": "code",
    "collapsed": true,
    "id": "S4acQYDX2sKZ"
   },
   "outputs": [],
   "source": [
    "data = data[['HHIDPN', 'RAEDYRS',\t'RAGENDER',\t'income',\t'health',\t'age',\t'tw',\t'married','wave']]"
   ]
  },
  {
   "cell_type": "code",
   "execution_count": 0,
   "metadata": {
    "colab": {},
    "colab_type": "code",
    "collapsed": true,
    "id": "R1uJtNZ852me"
   },
   "outputs": [],
   "source": [
    "data = data.iloc[:,~data.columns.duplicated()]"
   ]
  },
  {
   "cell_type": "code",
   "execution_count": 0,
   "metadata": {
    "colab": {},
    "colab_type": "code",
    "collapsed": true,
    "id": "51mtwpZ359NS"
   },
   "outputs": [],
   "source": [
    "data = pd.merge(data, cluster_map, on=\"HHIDPN\").drop(columns='HHIDPN')"
   ]
  },
  {
   "cell_type": "code",
   "execution_count": 0,
   "metadata": {
    "colab": {
     "base_uri": "https://localhost:8080/",
     "height": 118
    },
    "colab_type": "code",
    "id": "WroLzHOG6IXF",
    "outputId": "4da65c14-bb01-4b9a-e907-fcb8fa7bbb3e"
   },
   "outputs": [
    {
     "data": {
      "text/plain": [
       "3    41872\n",
       "4    32181\n",
       "1    19931\n",
       "2    17150\n",
       "0     2875\n",
       "Name: idx, dtype: int64"
      ]
     },
     "execution_count": 320,
     "metadata": {
      "tags": []
     },
     "output_type": "execute_result"
    }
   ],
   "source": [
    "data.idx.value_counts()"
   ]
  },
  {
   "cell_type": "code",
   "execution_count": 0,
   "metadata": {
    "colab": {},
    "colab_type": "code",
    "collapsed": true,
    "id": "aUANISC17poe"
   },
   "outputs": [],
   "source": [
    "cluster_summary = data.groupby(['wave','idx']).agg({'RAEDYRS':['mean','count'],\t\\\n",
    "                                                    'RAGENDER':'mean',\\\n",
    "                                                    'income':'mean',\t\\\n",
    "                                                    'health':'mean',\t\\\n",
    "                                                    'age':'mean',\t\\\n",
    "                                                    'tw':'mean',\t\\\n",
    "                                                    'married':'mean'})\\\n",
    ".rename(columns={'RAEDYRS':'years_edu','RAGENDER':'female_per', 'tw':'total_wealth', 'married':'married_per'})"
   ]
  },
  {
   "cell_type": "code",
   "execution_count": 0,
   "metadata": {
    "colab": {},
    "colab_type": "code",
    "collapsed": true,
    "id": "E1iBS2Fw8K29"
   },
   "outputs": [],
   "source": [
    "cluster_summary['female_per'] = (cluster_summary['female_per'].round(2)*100).astype(int)\n",
    "cluster_summary['health'] = (100-cluster_summary['health']*20).astype(int)\n",
    "cluster_summary['total_wealth'] = ((cluster_summary['total_wealth']/1000).round(0)).astype(int)\n",
    "cluster_summary['income'] = ((cluster_summary['income']/1000).round(0)).astype(int)\n",
    "cluster_summary['married_per'] = (cluster_summary['married_per'].round(2)*100).astype(int)\n",
    "cluster_summary['age'] = cluster_summary['age'].round(1)\n",
    "cluster_summary['years_edu'] = cluster_summary['years_edu'].round(1)"
   ]
  },
  {
   "cell_type": "code",
   "execution_count": 0,
   "metadata": {
    "colab": {},
    "colab_type": "code",
    "collapsed": true,
    "id": "skw8X2JN9Fdu"
   },
   "outputs": [],
   "source": [
    "cluster_summary = cluster_summary.reset_index()"
   ]
  },
  {
   "cell_type": "code",
   "execution_count": 0,
   "metadata": {
    "colab": {},
    "colab_type": "code",
    "collapsed": true,
    "id": "JtcOUROZ--U5"
   },
   "outputs": [],
   "source": [
    "cols = list(cluster_summary.columns.get_level_values(0))\n",
    "cols[3] = 'count'\n",
    "cluster_summary.columns = cols"
   ]
  },
  {
   "cell_type": "code",
   "execution_count": 0,
   "metadata": {
    "colab": {},
    "colab_type": "code",
    "collapsed": true,
    "id": "CmxwAdnYBGMh"
   },
   "outputs": [],
   "source": [
    "cluster_summary['count'] = cluster_summary['count'].round(0).astype(int)"
   ]
  },
  {
   "cell_type": "code",
   "execution_count": 0,
   "metadata": {
    "colab": {},
    "colab_type": "code",
    "collapsed": true,
    "id": "6MbaFxz7_mJE"
   },
   "outputs": [],
   "source": [
    "cluster_summary.to_csv('cluster_summary.csv')"
   ]
  },
  {
   "cell_type": "markdown",
   "metadata": {
    "colab_type": "text",
    "id": "wm0tM3L1Hfm0"
   },
   "source": [
    "# 5. Multi wave analysis - Predicting self-reported health with demographic variables"
   ]
  },
  {
   "cell_type": "code",
   "execution_count": 0,
   "metadata": {
    "colab": {},
    "colab_type": "code",
    "collapsed": true,
    "id": "uVfjguNs1g8g"
   },
   "outputs": [],
   "source": [
    "var = df[['HHIDPN','RAGENDER']]\n",
    "var1 = df[['HHIDPN','RAGENDER']]\n",
    "var2 = df[['HHIDPN','RAGENDER']]\n",
    "var3 = df[['HHIDPN','RAGENDER']]\n",
    "var4 = df[['HHIDPN','RAGENDER']]\n",
    "var5 = df[['HHIDPN','RAGENDER']]\n",
    "var6 = df[['HHIDPN','RAGENDER']]\n",
    "var7 = df[['HHIDPN','RAGENDER']]\n",
    "#Don't use R1OOPMD later\n",
    "var7['R1OOPMD'] = df['R2OOPMD']\n",
    "###\n",
    "var8 = df[['HHIDPN','RAGENDER']]\n",
    "for i in range(13):\n",
    "  i=i+1\n",
    "  var['H' + str(i) + 'ITOT'] = df['H' + str(i) + 'ITOT']\n",
    "  var1['R' + str(i) + 'SHLT'] = df['R' + str(i) + 'SHLT']\n",
    "  var2['R' + str(i) + 'AGEY_B'] = df['R' + str(i) + 'AGEY_B']\n",
    "  var3['NHFW' + str(i)] = df['NHFW' + str(i)]\n",
    "  var4['TW' + str(i)] =  df['TW' + str(i)]\n",
    "  var5['NHFW' + str(i)] = df['NHFW' + str(i)]\n",
    "  var6['R' + str(i) + 'MSTAT'] = df['R' + str(i) + 'MSTAT'] \n",
    "  if i>1: \n",
    "    var7['R' + str(i) + 'OOPMD'] = df['R' + str(i) + 'OOPMD']  \n",
    "  var8['H' + str(i) + 'ASTCK'] = df['H' + str(i) + 'ASTCK']  "
   ]
  },
  {
   "cell_type": "code",
   "execution_count": 0,
   "metadata": {
    "colab": {},
    "colab_type": "code",
    "collapsed": true,
    "id": "qSfFKeaoihVB"
   },
   "outputs": [],
   "source": [
    "data = df[['HHIDPN','RAEDYRS']]"
   ]
  },
  {
   "cell_type": "code",
   "execution_count": 0,
   "metadata": {
    "colab": {},
    "colab_type": "code",
    "collapsed": true,
    "id": "2INSp5UYo3sH"
   },
   "outputs": [],
   "source": [
    "data2 = var.melt(id_vars = ['HHIDPN','RAGENDER'], var_name='income_var', value_name='income')\n",
    "data2 = pd.concat([data2, var1.melt(id_vars = ['HHIDPN','RAGENDER'], var_name='health_var', value_name='health')], axis=1)\n",
    "data2 = pd.concat([data2, var2.melt(id_vars = ['HHIDPN','RAGENDER'], var_name='age_var', value_name='age')], axis=1)\n",
    "data2 = pd.concat([data2, var3.melt(id_vars = ['HHIDPN','RAGENDER'], var_name='nhfw_var', value_name='nhfw')], axis=1)  \n",
    "data2 = pd.concat([data2, var4.melt(id_vars = ['HHIDPN','RAGENDER'], var_name='tw_var', value_name='tw')], axis=1)  \n",
    "data2 = pd.concat([data2, var5.melt(id_vars = ['HHIDPN','RAGENDER'], var_name='nhw_var', value_name='nhw')], axis=1)  \n",
    "data2 = pd.concat([data2, var6.melt(id_vars = ['HHIDPN','RAGENDER'], var_name='married_var', value_name='married')], axis=1)\n",
    "data2 = pd.concat([data2, var7.melt(id_vars = ['HHIDPN','RAGENDER'], var_name='medexp_var', value_name='medexp')], axis=1)  \n",
    "data2 = pd.concat([data2, var8.melt(id_vars = ['HHIDPN','RAGENDER'], var_name='stock_var', value_name='stock')], axis=1)\n",
    "data2 = data2.iloc[:,~data2.columns.duplicated()]\n",
    "data = pd.merge(data, data2, on='HHIDPN')"
   ]
  },
  {
   "cell_type": "code",
   "execution_count": 0,
   "metadata": {
    "colab": {},
    "colab_type": "code",
    "collapsed": true,
    "id": "_QIRISuEujmz"
   },
   "outputs": [],
   "source": [
    "data = data[data.income.notnull()].reset_index(drop=True)"
   ]
  },
  {
   "cell_type": "code",
   "execution_count": 0,
   "metadata": {
    "colab": {},
    "colab_type": "code",
    "collapsed": true,
    "id": "0oXrW9ThvcI3"
   },
   "outputs": [],
   "source": [
    "data_lag = data.groupby(['HHIDPN','RAEDYRS','RAGENDER']).shift(periods=1)\n",
    "data_lag = data_lag.add_suffix('_prev')\n",
    "data = pd.concat([data, data_lag], axis=1)"
   ]
  },
  {
   "cell_type": "code",
   "execution_count": 0,
   "metadata": {
    "colab": {},
    "colab_type": "code",
    "collapsed": true,
    "id": "YICfo_JS_1ym"
   },
   "outputs": [],
   "source": [
    "data = data[data.age.notnull() & data.age_prev.notnull() & data.income_prev.notnull() & data.health.notnull() & data.health_prev.notnull() & data.married.notnull() & data.married_prev.notnull()].reset_index(drop=True)"
   ]
  },
  {
   "cell_type": "code",
   "execution_count": 0,
   "metadata": {
    "colab": {},
    "colab_type": "code",
    "collapsed": true,
    "id": "655A-d_N_5Rj"
   },
   "outputs": [],
   "source": [
    "idvs = [i for i in data.dtypes.index[data.dtypes == float] if i!=\"health\"]"
   ]
  },
  {
   "cell_type": "code",
   "execution_count": 0,
   "metadata": {
    "colab": {
     "base_uri": "https://localhost:8080/",
     "height": 286
    },
    "colab_type": "code",
    "id": "VUCk3OEZBoM-",
    "outputId": "d54e004a-ca08-4629-a21e-9d57c2ed470c"
   },
   "outputs": [
    {
     "data": {
      "text/plain": [
       "RAEDYRS         0.0\n",
       "RAGENDER        0.0\n",
       "income          0.0\n",
       "age             0.0\n",
       "nhfw            0.0\n",
       "tw              0.0\n",
       "nhw             0.0\n",
       "married         0.0\n",
       "income_prev     0.0\n",
       "health_prev     0.0\n",
       "age_prev        0.0\n",
       "nhfw_prev       0.0\n",
       "tw_prev         0.0\n",
       "nhw_prev        0.0\n",
       "married_prev    0.0\n",
       "dtype: float64"
      ]
     },
     "execution_count": 20,
     "metadata": {
      "tags": []
     },
     "output_type": "execute_result"
    }
   ],
   "source": [
    "data_idvs = data.iloc[:,data.columns.isin(idvs)]\n",
    "data_idvs.isnull().sum() * 100 / len(data_idvs)"
   ]
  },
  {
   "cell_type": "markdown",
   "metadata": {},
   "source": [
    "## 5.1 Training & Validation - CART model"
   ]
  },
  {
   "cell_type": "code",
   "execution_count": 0,
   "metadata": {
    "colab": {},
    "colab_type": "code",
    "collapsed": true,
    "id": "DxxEC3uDLToV"
   },
   "outputs": [],
   "source": [
    "from sklearn.model_selection import train_test_split"
   ]
  },
  {
   "cell_type": "code",
   "execution_count": 0,
   "metadata": {
    "colab": {},
    "colab_type": "code",
    "collapsed": true,
    "id": "jIWIt7AULp2S"
   },
   "outputs": [],
   "source": [
    "data['dv'] = data.health>3"
   ]
  },
  {
   "cell_type": "code",
   "execution_count": 0,
   "metadata": {
    "colab": {},
    "colab_type": "code",
    "collapsed": true,
    "id": "UYw5vJgxKR0W"
   },
   "outputs": [],
   "source": [
    "X_train, X_test, y_train, y_test = train_test_split(data.iloc[:,data.columns.isin(idvs)], data.dv, test_size=0.33, random_state=42)"
   ]
  },
  {
   "cell_type": "code",
   "execution_count": 0,
   "metadata": {
    "colab": {
     "base_uri": "https://localhost:8080/",
     "height": 34
    },
    "colab_type": "code",
    "id": "YQxzVcd7_jfC",
    "outputId": "9330cf01-7845-40f7-c4bf-afabd2a2c948"
   },
   "outputs": [
    {
     "data": {
      "text/plain": [
       "array([0.82640587, 0.82330402, 0.8225677 , 0.82176483, 0.82435589])"
      ]
     },
     "execution_count": 52,
     "metadata": {
      "tags": []
     },
     "output_type": "execute_result"
    }
   ],
   "source": [
    "from sklearn.model_selection import cross_val_score\n",
    "from sklearn.tree import DecisionTreeClassifier\n",
    "clf = DecisionTreeClassifier(random_state=0, max_depth=3)\n",
    "cross_val_score(clf, X_train, y_train, cv=5)"
   ]
  },
  {
   "cell_type": "code",
   "execution_count": 0,
   "metadata": {
    "colab": {
     "base_uri": "https://localhost:8080/",
     "height": 118
    },
    "colab_type": "code",
    "id": "jkav8KelJH20",
    "outputId": "621fabb0-fa32-49d6-a5cd-12123016a58d"
   },
   "outputs": [
    {
     "data": {
      "text/plain": [
       "DecisionTreeClassifier(ccp_alpha=0.0, class_weight=None, criterion='gini',\n",
       "                       max_depth=3, max_features=None, max_leaf_nodes=None,\n",
       "                       min_impurity_decrease=0.0, min_impurity_split=None,\n",
       "                       min_samples_leaf=1, min_samples_split=2,\n",
       "                       min_weight_fraction_leaf=0.0, presort='deprecated',\n",
       "                       random_state=0, splitter='best')"
      ]
     },
     "execution_count": 53,
     "metadata": {
      "tags": []
     },
     "output_type": "execute_result"
    }
   ],
   "source": [
    "clf.fit(X_train, y_train)"
   ]
  },
  {
   "cell_type": "code",
   "execution_count": 0,
   "metadata": {
    "colab": {
     "base_uri": "https://localhost:8080/",
     "height": 50
    },
    "colab_type": "code",
    "id": "qSk_FGkVKizC",
    "outputId": "6c60c11a-90be-410a-ef15-00670d73041b"
   },
   "outputs": [
    {
     "name": "stdout",
     "output_type": "stream",
     "text": [
      "0.7755287240330168\n",
      "0.7740642397644589\n"
     ]
    }
   ],
   "source": [
    "from sklearn.metrics import roc_auc_score\n",
    "y_pred_train = clf.predict(X_train)\n",
    "y_pred_test = clf.predict(X_test)\n",
    "print(roc_auc_score(y_train, y_pred_train))\n",
    "print(roc_auc_score(y_test, y_pred_test))"
   ]
  },
  {
   "cell_type": "code",
   "execution_count": 0,
   "metadata": {
    "colab": {
     "base_uri": "https://localhost:8080/",
     "height": 618
    },
    "colab_type": "code",
    "id": "nAxb64LXIHGl",
    "outputId": "780883fd-8f21-47d5-fcc6-b62aae60c727"
   },
   "outputs": [
    {
     "data": {
      "image/svg+xml": [
       "<?xml version=\"1.0\" encoding=\"UTF-8\" standalone=\"no\"?>\n",
       "<!DOCTYPE svg PUBLIC \"-//W3C//DTD SVG 1.1//EN\"\n",
       " \"http://www.w3.org/Graphics/SVG/1.1/DTD/svg11.dtd\">\n",
       "<!-- Generated by graphviz version 2.40.1 (20161225.0304)\n",
       " -->\n",
       "<!-- Title: Tree Pages: 1 -->\n",
       "<svg width=\"1341pt\" height=\"433pt\"\n",
       " viewBox=\"0.00 0.00 1340.50 433.00\" xmlns=\"http://www.w3.org/2000/svg\" xmlns:xlink=\"http://www.w3.org/1999/xlink\">\n",
       "<g id=\"graph0\" class=\"graph\" transform=\"scale(1 1) rotate(0) translate(4 429)\">\n",
       "<title>Tree</title>\n",
       "<polygon fill=\"#ffffff\" stroke=\"transparent\" points=\"-4,4 -4,-429 1336.5,-429 1336.5,4 -4,4\"/>\n",
       "<!-- 0 -->\n",
       "<g id=\"node1\" class=\"node\">\n",
       "<title>0</title>\n",
       "<path fill=\"#f0b68c\" stroke=\"#000000\" d=\"M749,-425C749,-425 608,-425 608,-425 602,-425 596,-419 596,-413 596,-413 596,-354 596,-354 596,-348 602,-342 608,-342 608,-342 749,-342 749,-342 755,-342 761,-348 761,-354 761,-354 761,-413 761,-413 761,-419 755,-425 749,-425\"/>\n",
       "<text text-anchor=\"start\" x=\"622.5\" y=\"-409.8\" font-family=\"Helvetica,sans-Serif\" font-size=\"14.00\" fill=\"#000000\">health_prev ≤ 3.5</text>\n",
       "<text text-anchor=\"start\" x=\"640.5\" y=\"-394.8\" font-family=\"Helvetica,sans-Serif\" font-size=\"14.00\" fill=\"#000000\">gini = 0.416</text>\n",
       "<text text-anchor=\"start\" x=\"618\" y=\"-379.8\" font-family=\"Helvetica,sans-Serif\" font-size=\"14.00\" fill=\"#000000\">samples = 137012</text>\n",
       "<text text-anchor=\"start\" x=\"604\" y=\"-364.8\" font-family=\"Helvetica,sans-Serif\" font-size=\"14.00\" fill=\"#000000\">value = [96536, 40476]</text>\n",
       "<text text-anchor=\"start\" x=\"649.5\" y=\"-349.8\" font-family=\"Helvetica,sans-Serif\" font-size=\"14.00\" fill=\"#000000\">class = h</text>\n",
       "</g>\n",
       "<!-- 1 -->\n",
       "<g id=\"node2\" class=\"node\">\n",
       "<title>1</title>\n",
       "<path fill=\"#e99559\" stroke=\"#000000\" d=\"M576,-306C576,-306 435,-306 435,-306 429,-306 423,-300 423,-294 423,-294 423,-235 423,-235 423,-229 429,-223 435,-223 435,-223 576,-223 576,-223 582,-223 588,-229 588,-235 588,-235 588,-294 588,-294 588,-300 582,-306 576,-306\"/>\n",
       "<text text-anchor=\"start\" x=\"449.5\" y=\"-290.8\" font-family=\"Helvetica,sans-Serif\" font-size=\"14.00\" fill=\"#000000\">health_prev ≤ 2.5</text>\n",
       "<text text-anchor=\"start\" x=\"467.5\" y=\"-275.8\" font-family=\"Helvetica,sans-Serif\" font-size=\"14.00\" fill=\"#000000\">gini = 0.238</text>\n",
       "<text text-anchor=\"start\" x=\"445\" y=\"-260.8\" font-family=\"Helvetica,sans-Serif\" font-size=\"14.00\" fill=\"#000000\">samples = 100076</text>\n",
       "<text text-anchor=\"start\" x=\"431\" y=\"-245.8\" font-family=\"Helvetica,sans-Serif\" font-size=\"14.00\" fill=\"#000000\">value = [86227, 13849]</text>\n",
       "<text text-anchor=\"start\" x=\"476.5\" y=\"-230.8\" font-family=\"Helvetica,sans-Serif\" font-size=\"14.00\" fill=\"#000000\">class = h</text>\n",
       "</g>\n",
       "<!-- 0&#45;&gt;1 -->\n",
       "<g id=\"edge1\" class=\"edge\">\n",
       "<title>0&#45;&gt;1</title>\n",
       "<path fill=\"none\" stroke=\"#000000\" d=\"M617.993,-341.8796C603.9018,-332.1868 588.7961,-321.7961 574.3731,-311.8752\"/>\n",
       "<polygon fill=\"#000000\" stroke=\"#000000\" points=\"576.1955,-308.8806 565.9728,-306.0969 572.2283,-314.6479 576.1955,-308.8806\"/>\n",
       "<text text-anchor=\"middle\" x=\"570.519\" y=\"-326.9801\" font-family=\"Helvetica,sans-Serif\" font-size=\"14.00\" fill=\"#000000\">True</text>\n",
       "</g>\n",
       "<!-- 8 -->\n",
       "<g id=\"node9\" class=\"node\">\n",
       "<title>8</title>\n",
       "<path fill=\"#86c3ef\" stroke=\"#000000\" d=\"M922,-306C922,-306 781,-306 781,-306 775,-306 769,-300 769,-294 769,-294 769,-235 769,-235 769,-229 775,-223 781,-223 781,-223 922,-223 922,-223 928,-223 934,-229 934,-235 934,-235 934,-294 934,-294 934,-300 928,-306 922,-306\"/>\n",
       "<text text-anchor=\"start\" x=\"795.5\" y=\"-290.8\" font-family=\"Helvetica,sans-Serif\" font-size=\"14.00\" fill=\"#000000\">health_prev ≤ 4.5</text>\n",
       "<text text-anchor=\"start\" x=\"813.5\" y=\"-275.8\" font-family=\"Helvetica,sans-Serif\" font-size=\"14.00\" fill=\"#000000\">gini = 0.402</text>\n",
       "<text text-anchor=\"start\" x=\"795.5\" y=\"-260.8\" font-family=\"Helvetica,sans-Serif\" font-size=\"14.00\" fill=\"#000000\">samples = 36936</text>\n",
       "<text text-anchor=\"start\" x=\"777\" y=\"-245.8\" font-family=\"Helvetica,sans-Serif\" font-size=\"14.00\" fill=\"#000000\">value = [10309, 26627]</text>\n",
       "<text text-anchor=\"start\" x=\"822.5\" y=\"-230.8\" font-family=\"Helvetica,sans-Serif\" font-size=\"14.00\" fill=\"#000000\">class = e</text>\n",
       "</g>\n",
       "<!-- 0&#45;&gt;8 -->\n",
       "<g id=\"edge8\" class=\"edge\">\n",
       "<title>0&#45;&gt;8</title>\n",
       "<path fill=\"none\" stroke=\"#000000\" d=\"M739.007,-341.8796C753.0982,-332.1868 768.2039,-321.7961 782.6269,-311.8752\"/>\n",
       "<polygon fill=\"#000000\" stroke=\"#000000\" points=\"784.7717,-314.6479 791.0272,-306.0969 780.8045,-308.8806 784.7717,-314.6479\"/>\n",
       "<text text-anchor=\"middle\" x=\"786.481\" y=\"-326.9801\" font-family=\"Helvetica,sans-Serif\" font-size=\"14.00\" fill=\"#000000\">False</text>\n",
       "</g>\n",
       "<!-- 2 -->\n",
       "<g id=\"node3\" class=\"node\">\n",
       "<title>2</title>\n",
       "<path fill=\"#e78a47\" stroke=\"#000000\" d=\"M312,-187C312,-187 179,-187 179,-187 173,-187 167,-181 167,-175 167,-175 167,-116 167,-116 167,-110 173,-104 179,-104 179,-104 312,-104 312,-104 318,-104 324,-110 324,-116 324,-116 324,-175 324,-175 324,-181 318,-187 312,-187\"/>\n",
       "<text text-anchor=\"start\" x=\"188\" y=\"-171.8\" font-family=\"Helvetica,sans-Serif\" font-size=\"14.00\" fill=\"#000000\">RAEDYRS ≤ 11.5</text>\n",
       "<text text-anchor=\"start\" x=\"207.5\" y=\"-156.8\" font-family=\"Helvetica,sans-Serif\" font-size=\"14.00\" fill=\"#000000\">gini = 0.125</text>\n",
       "<text text-anchor=\"start\" x=\"189.5\" y=\"-141.8\" font-family=\"Helvetica,sans-Serif\" font-size=\"14.00\" fill=\"#000000\">samples = 57086</text>\n",
       "<text text-anchor=\"start\" x=\"175\" y=\"-126.8\" font-family=\"Helvetica,sans-Serif\" font-size=\"14.00\" fill=\"#000000\">value = [53272, 3814]</text>\n",
       "<text text-anchor=\"start\" x=\"216.5\" y=\"-111.8\" font-family=\"Helvetica,sans-Serif\" font-size=\"14.00\" fill=\"#000000\">class = h</text>\n",
       "</g>\n",
       "<!-- 1&#45;&gt;2 -->\n",
       "<g id=\"edge2\" class=\"edge\">\n",
       "<title>1&#45;&gt;2</title>\n",
       "<path fill=\"none\" stroke=\"#000000\" d=\"M422.8771,-226.6841C394.4323,-213.6652 362.4816,-199.0416 333.6157,-185.8299\"/>\n",
       "<polygon fill=\"#000000\" stroke=\"#000000\" points=\"334.9099,-182.5731 324.3604,-181.5938 331.9967,-188.9381 334.9099,-182.5731\"/>\n",
       "</g>\n",
       "<!-- 5 -->\n",
       "<g id=\"node6\" class=\"node\">\n",
       "<title>5</title>\n",
       "<path fill=\"#eda775\" stroke=\"#000000\" d=\"M576,-187C576,-187 435,-187 435,-187 429,-187 423,-181 423,-175 423,-175 423,-116 423,-116 423,-110 429,-104 435,-104 435,-104 576,-104 576,-104 582,-104 588,-110 588,-116 588,-116 588,-175 588,-175 588,-181 582,-187 576,-187\"/>\n",
       "<text text-anchor=\"start\" x=\"439\" y=\"-171.8\" font-family=\"Helvetica,sans-Serif\" font-size=\"14.00\" fill=\"#000000\">income ≤ 26247.152</text>\n",
       "<text text-anchor=\"start\" x=\"467.5\" y=\"-156.8\" font-family=\"Helvetica,sans-Serif\" font-size=\"14.00\" fill=\"#000000\">gini = 0.358</text>\n",
       "<text text-anchor=\"start\" x=\"449.5\" y=\"-141.8\" font-family=\"Helvetica,sans-Serif\" font-size=\"14.00\" fill=\"#000000\">samples = 42990</text>\n",
       "<text text-anchor=\"start\" x=\"431\" y=\"-126.8\" font-family=\"Helvetica,sans-Serif\" font-size=\"14.00\" fill=\"#000000\">value = [32955, 10035]</text>\n",
       "<text text-anchor=\"start\" x=\"476.5\" y=\"-111.8\" font-family=\"Helvetica,sans-Serif\" font-size=\"14.00\" fill=\"#000000\">class = h</text>\n",
       "</g>\n",
       "<!-- 1&#45;&gt;5 -->\n",
       "<g id=\"edge5\" class=\"edge\">\n",
       "<title>1&#45;&gt;5</title>\n",
       "<path fill=\"none\" stroke=\"#000000\" d=\"M505.5,-222.8796C505.5,-214.6838 505.5,-205.9891 505.5,-197.5013\"/>\n",
       "<polygon fill=\"#000000\" stroke=\"#000000\" points=\"509.0001,-197.298 505.5,-187.2981 502.0001,-197.2981 509.0001,-197.298\"/>\n",
       "</g>\n",
       "<!-- 3 -->\n",
       "<g id=\"node4\" class=\"node\">\n",
       "<title>3</title>\n",
       "<path fill=\"#ea9a61\" stroke=\"#000000\" d=\"M137,-68C137,-68 12,-68 12,-68 6,-68 0,-62 0,-56 0,-56 0,-12 0,-12 0,-6 6,0 12,0 12,0 137,0 137,0 143,0 149,-6 149,-12 149,-12 149,-56 149,-56 149,-62 143,-68 137,-68\"/>\n",
       "<text text-anchor=\"start\" x=\"36.5\" y=\"-52.8\" font-family=\"Helvetica,sans-Serif\" font-size=\"14.00\" fill=\"#000000\">gini = 0.279</text>\n",
       "<text text-anchor=\"start\" x=\"22.5\" y=\"-37.8\" font-family=\"Helvetica,sans-Serif\" font-size=\"14.00\" fill=\"#000000\">samples = 8464</text>\n",
       "<text text-anchor=\"start\" x=\"8\" y=\"-22.8\" font-family=\"Helvetica,sans-Serif\" font-size=\"14.00\" fill=\"#000000\">value = [7045, 1419]</text>\n",
       "<text text-anchor=\"start\" x=\"45.5\" y=\"-7.8\" font-family=\"Helvetica,sans-Serif\" font-size=\"14.00\" fill=\"#000000\">class = h</text>\n",
       "</g>\n",
       "<!-- 2&#45;&gt;3 -->\n",
       "<g id=\"edge3\" class=\"edge\">\n",
       "<title>2&#45;&gt;3</title>\n",
       "<path fill=\"none\" stroke=\"#000000\" d=\"M181.8259,-103.9815C166.6648,-94.0957 150.5224,-83.5701 135.4851,-73.7651\"/>\n",
       "<polygon fill=\"#000000\" stroke=\"#000000\" points=\"137.0631,-70.6158 126.7748,-68.0856 133.2397,-76.4794 137.0631,-70.6158\"/>\n",
       "</g>\n",
       "<!-- 4 -->\n",
       "<g id=\"node5\" class=\"node\">\n",
       "<title>4</title>\n",
       "<path fill=\"#e68843\" stroke=\"#000000\" d=\"M312,-68C312,-68 179,-68 179,-68 173,-68 167,-62 167,-56 167,-56 167,-12 167,-12 167,-6 173,0 179,0 179,0 312,0 312,0 318,0 324,-6 324,-12 324,-12 324,-56 324,-56 324,-62 318,-68 312,-68\"/>\n",
       "<text text-anchor=\"start\" x=\"207.5\" y=\"-52.8\" font-family=\"Helvetica,sans-Serif\" font-size=\"14.00\" fill=\"#000000\">gini = 0.094</text>\n",
       "<text text-anchor=\"start\" x=\"189.5\" y=\"-37.8\" font-family=\"Helvetica,sans-Serif\" font-size=\"14.00\" fill=\"#000000\">samples = 48622</text>\n",
       "<text text-anchor=\"start\" x=\"175\" y=\"-22.8\" font-family=\"Helvetica,sans-Serif\" font-size=\"14.00\" fill=\"#000000\">value = [46227, 2395]</text>\n",
       "<text text-anchor=\"start\" x=\"216.5\" y=\"-7.8\" font-family=\"Helvetica,sans-Serif\" font-size=\"14.00\" fill=\"#000000\">class = h</text>\n",
       "</g>\n",
       "<!-- 2&#45;&gt;4 -->\n",
       "<g id=\"edge4\" class=\"edge\">\n",
       "<title>2&#45;&gt;4</title>\n",
       "<path fill=\"none\" stroke=\"#000000\" d=\"M245.5,-103.9815C245.5,-95.618 245.5,-86.7965 245.5,-78.3409\"/>\n",
       "<polygon fill=\"#000000\" stroke=\"#000000\" points=\"249.0001,-78.2636 245.5,-68.2637 242.0001,-78.2637 249.0001,-78.2636\"/>\n",
       "</g>\n",
       "<!-- 6 -->\n",
       "<g id=\"node7\" class=\"node\">\n",
       "<title>6</title>\n",
       "<path fill=\"#f0b990\" stroke=\"#000000\" d=\"M487,-68C487,-68 354,-68 354,-68 348,-68 342,-62 342,-56 342,-56 342,-12 342,-12 342,-6 348,0 354,0 354,0 487,0 487,0 493,0 499,-6 499,-12 499,-12 499,-56 499,-56 499,-62 493,-68 487,-68\"/>\n",
       "<text text-anchor=\"start\" x=\"382.5\" y=\"-52.8\" font-family=\"Helvetica,sans-Serif\" font-size=\"14.00\" fill=\"#000000\">gini = 0.425</text>\n",
       "<text text-anchor=\"start\" x=\"364.5\" y=\"-37.8\" font-family=\"Helvetica,sans-Serif\" font-size=\"14.00\" fill=\"#000000\">samples = 16512</text>\n",
       "<text text-anchor=\"start\" x=\"350\" y=\"-22.8\" font-family=\"Helvetica,sans-Serif\" font-size=\"14.00\" fill=\"#000000\">value = [11458, 5054]</text>\n",
       "<text text-anchor=\"start\" x=\"391.5\" y=\"-7.8\" font-family=\"Helvetica,sans-Serif\" font-size=\"14.00\" fill=\"#000000\">class = h</text>\n",
       "</g>\n",
       "<!-- 5&#45;&gt;6 -->\n",
       "<g id=\"edge6\" class=\"edge\">\n",
       "<title>5&#45;&gt;6</title>\n",
       "<path fill=\"none\" stroke=\"#000000\" d=\"M473.8491,-103.9815C466.9829,-94.9747 459.7118,-85.4367 452.8202,-76.3965\"/>\n",
       "<polygon fill=\"#000000\" stroke=\"#000000\" points=\"455.4664,-74.0945 446.6203,-68.2637 449.8995,-78.3383 455.4664,-74.0945\"/>\n",
       "</g>\n",
       "<!-- 7 -->\n",
       "<g id=\"node8\" class=\"node\">\n",
       "<title>7</title>\n",
       "<path fill=\"#eb9e67\" stroke=\"#000000\" d=\"M662,-68C662,-68 529,-68 529,-68 523,-68 517,-62 517,-56 517,-56 517,-12 517,-12 517,-6 523,0 529,0 529,0 662,0 662,0 668,0 674,-6 674,-12 674,-12 674,-56 674,-56 674,-62 668,-68 662,-68\"/>\n",
       "<text text-anchor=\"start\" x=\"557.5\" y=\"-52.8\" font-family=\"Helvetica,sans-Serif\" font-size=\"14.00\" fill=\"#000000\">gini = 0.305</text>\n",
       "<text text-anchor=\"start\" x=\"539.5\" y=\"-37.8\" font-family=\"Helvetica,sans-Serif\" font-size=\"14.00\" fill=\"#000000\">samples = 26478</text>\n",
       "<text text-anchor=\"start\" x=\"525\" y=\"-22.8\" font-family=\"Helvetica,sans-Serif\" font-size=\"14.00\" fill=\"#000000\">value = [21497, 4981]</text>\n",
       "<text text-anchor=\"start\" x=\"566.5\" y=\"-7.8\" font-family=\"Helvetica,sans-Serif\" font-size=\"14.00\" fill=\"#000000\">class = h</text>\n",
       "</g>\n",
       "<!-- 5&#45;&gt;7 -->\n",
       "<g id=\"edge7\" class=\"edge\">\n",
       "<title>5&#45;&gt;7</title>\n",
       "<path fill=\"none\" stroke=\"#000000\" d=\"M539.0127,-103.9815C546.357,-94.8828 554.1388,-85.242 561.5019,-76.1199\"/>\n",
       "<polygon fill=\"#000000\" stroke=\"#000000\" points=\"564.2857,-78.2434 567.8432,-68.2637 558.8388,-73.8467 564.2857,-78.2434\"/>\n",
       "</g>\n",
       "<!-- 9 -->\n",
       "<g id=\"node10\" class=\"node\">\n",
       "<title>9</title>\n",
       "<path fill=\"#9fcff2\" stroke=\"#000000\" d=\"M918,-187C918,-187 785,-187 785,-187 779,-187 773,-181 773,-175 773,-175 773,-116 773,-116 773,-110 779,-104 785,-104 785,-104 918,-104 918,-104 924,-104 930,-110 930,-116 930,-116 930,-175 930,-175 930,-181 924,-187 918,-187\"/>\n",
       "<text text-anchor=\"start\" x=\"793.5\" y=\"-171.8\" font-family=\"Helvetica,sans-Serif\" font-size=\"14.00\" fill=\"#000000\">income ≤ 33290.5</text>\n",
       "<text text-anchor=\"start\" x=\"813.5\" y=\"-156.8\" font-family=\"Helvetica,sans-Serif\" font-size=\"14.00\" fill=\"#000000\">gini = 0.449</text>\n",
       "<text text-anchor=\"start\" x=\"795.5\" y=\"-141.8\" font-family=\"Helvetica,sans-Serif\" font-size=\"14.00\" fill=\"#000000\">samples = 26510</text>\n",
       "<text text-anchor=\"start\" x=\"781\" y=\"-126.8\" font-family=\"Helvetica,sans-Serif\" font-size=\"14.00\" fill=\"#000000\">value = [9015, 17495]</text>\n",
       "<text text-anchor=\"start\" x=\"822.5\" y=\"-111.8\" font-family=\"Helvetica,sans-Serif\" font-size=\"14.00\" fill=\"#000000\">class = e</text>\n",
       "</g>\n",
       "<!-- 8&#45;&gt;9 -->\n",
       "<g id=\"edge9\" class=\"edge\">\n",
       "<title>8&#45;&gt;9</title>\n",
       "<path fill=\"none\" stroke=\"#000000\" d=\"M851.5,-222.8796C851.5,-214.6838 851.5,-205.9891 851.5,-197.5013\"/>\n",
       "<polygon fill=\"#000000\" stroke=\"#000000\" points=\"855.0001,-197.298 851.5,-187.2981 848.0001,-197.2981 855.0001,-197.298\"/>\n",
       "</g>\n",
       "<!-- 12 -->\n",
       "<g id=\"node13\" class=\"node\">\n",
       "<title>12</title>\n",
       "<path fill=\"#55abe9\" stroke=\"#000000\" d=\"M1167,-187C1167,-187 1042,-187 1042,-187 1036,-187 1030,-181 1030,-175 1030,-175 1030,-116 1030,-116 1030,-110 1036,-104 1042,-104 1042,-104 1167,-104 1167,-104 1173,-104 1179,-110 1179,-116 1179,-116 1179,-175 1179,-175 1179,-181 1173,-187 1167,-187\"/>\n",
       "<text text-anchor=\"start\" x=\"1069\" y=\"-171.8\" font-family=\"Helvetica,sans-Serif\" font-size=\"14.00\" fill=\"#000000\">nhw ≤ 19.5</text>\n",
       "<text text-anchor=\"start\" x=\"1066.5\" y=\"-156.8\" font-family=\"Helvetica,sans-Serif\" font-size=\"14.00\" fill=\"#000000\">gini = 0.217</text>\n",
       "<text text-anchor=\"start\" x=\"1048.5\" y=\"-141.8\" font-family=\"Helvetica,sans-Serif\" font-size=\"14.00\" fill=\"#000000\">samples = 10426</text>\n",
       "<text text-anchor=\"start\" x=\"1038\" y=\"-126.8\" font-family=\"Helvetica,sans-Serif\" font-size=\"14.00\" fill=\"#000000\">value = [1294, 9132]</text>\n",
       "<text text-anchor=\"start\" x=\"1075.5\" y=\"-111.8\" font-family=\"Helvetica,sans-Serif\" font-size=\"14.00\" fill=\"#000000\">class = e</text>\n",
       "</g>\n",
       "<!-- 8&#45;&gt;12 -->\n",
       "<g id=\"edge12\" class=\"edge\">\n",
       "<title>8&#45;&gt;12</title>\n",
       "<path fill=\"none\" stroke=\"#000000\" d=\"M934.3417,-225.5349C961.92,-212.5633 992.6538,-198.1075 1020.3316,-185.0891\"/>\n",
       "<polygon fill=\"#000000\" stroke=\"#000000\" points=\"1022.0326,-188.1569 1029.5919,-180.7335 1019.0531,-181.8226 1022.0326,-188.1569\"/>\n",
       "</g>\n",
       "<!-- 10 -->\n",
       "<g id=\"node11\" class=\"node\">\n",
       "<title>10</title>\n",
       "<path fill=\"#8fc7f0\" stroke=\"#000000\" d=\"M837,-68C837,-68 704,-68 704,-68 698,-68 692,-62 692,-56 692,-56 692,-12 692,-12 692,-6 698,0 704,0 704,0 837,0 837,0 843,0 849,-6 849,-12 849,-12 849,-56 849,-56 849,-62 843,-68 837,-68\"/>\n",
       "<text text-anchor=\"start\" x=\"732.5\" y=\"-52.8\" font-family=\"Helvetica,sans-Serif\" font-size=\"14.00\" fill=\"#000000\">gini = 0.422</text>\n",
       "<text text-anchor=\"start\" x=\"714.5\" y=\"-37.8\" font-family=\"Helvetica,sans-Serif\" font-size=\"14.00\" fill=\"#000000\">samples = 17637</text>\n",
       "<text text-anchor=\"start\" x=\"700\" y=\"-22.8\" font-family=\"Helvetica,sans-Serif\" font-size=\"14.00\" fill=\"#000000\">value = [5326, 12311]</text>\n",
       "<text text-anchor=\"start\" x=\"741.5\" y=\"-7.8\" font-family=\"Helvetica,sans-Serif\" font-size=\"14.00\" fill=\"#000000\">class = e</text>\n",
       "</g>\n",
       "<!-- 9&#45;&gt;10 -->\n",
       "<g id=\"edge10\" class=\"edge\">\n",
       "<title>9&#45;&gt;10</title>\n",
       "<path fill=\"none\" stroke=\"#000000\" d=\"M821.3386,-103.9815C814.7955,-94.9747 807.8666,-85.4367 801.2992,-76.3965\"/>\n",
       "<polygon fill=\"#000000\" stroke=\"#000000\" points=\"804.1002,-74.2971 795.3911,-68.2637 798.4369,-78.4113 804.1002,-74.2971\"/>\n",
       "</g>\n",
       "<!-- 11 -->\n",
       "<g id=\"node12\" class=\"node\">\n",
       "<title>11</title>\n",
       "<path fill=\"#c6e3f8\" stroke=\"#000000\" d=\"M1004,-68C1004,-68 879,-68 879,-68 873,-68 867,-62 867,-56 867,-56 867,-12 867,-12 867,-6 873,0 879,0 879,0 1004,0 1004,0 1010,0 1016,-6 1016,-12 1016,-12 1016,-56 1016,-56 1016,-62 1010,-68 1004,-68\"/>\n",
       "<text text-anchor=\"start\" x=\"903.5\" y=\"-52.8\" font-family=\"Helvetica,sans-Serif\" font-size=\"14.00\" fill=\"#000000\">gini = 0.486</text>\n",
       "<text text-anchor=\"start\" x=\"889.5\" y=\"-37.8\" font-family=\"Helvetica,sans-Serif\" font-size=\"14.00\" fill=\"#000000\">samples = 8873</text>\n",
       "<text text-anchor=\"start\" x=\"875\" y=\"-22.8\" font-family=\"Helvetica,sans-Serif\" font-size=\"14.00\" fill=\"#000000\">value = [3689, 5184]</text>\n",
       "<text text-anchor=\"start\" x=\"912.5\" y=\"-7.8\" font-family=\"Helvetica,sans-Serif\" font-size=\"14.00\" fill=\"#000000\">class = e</text>\n",
       "</g>\n",
       "<!-- 9&#45;&gt;11 -->\n",
       "<g id=\"edge11\" class=\"edge\">\n",
       "<title>9&#45;&gt;11</title>\n",
       "<path fill=\"none\" stroke=\"#000000\" d=\"M885.0127,-103.9815C892.357,-94.8828 900.1388,-85.242 907.5019,-76.1199\"/>\n",
       "<polygon fill=\"#000000\" stroke=\"#000000\" points=\"910.2857,-78.2434 913.8432,-68.2637 904.8388,-73.8467 910.2857,-78.2434\"/>\n",
       "</g>\n",
       "<!-- 13 -->\n",
       "<g id=\"node14\" class=\"node\">\n",
       "<title>13</title>\n",
       "<path fill=\"#4fa8e8\" stroke=\"#000000\" d=\"M1162.5,-68C1162.5,-68 1046.5,-68 1046.5,-68 1040.5,-68 1034.5,-62 1034.5,-56 1034.5,-56 1034.5,-12 1034.5,-12 1034.5,-6 1040.5,0 1046.5,0 1046.5,0 1162.5,0 1162.5,0 1168.5,0 1174.5,-6 1174.5,-12 1174.5,-12 1174.5,-56 1174.5,-56 1174.5,-62 1168.5,-68 1162.5,-68\"/>\n",
       "<text text-anchor=\"start\" x=\"1066.5\" y=\"-52.8\" font-family=\"Helvetica,sans-Serif\" font-size=\"14.00\" fill=\"#000000\">gini = 0.182</text>\n",
       "<text text-anchor=\"start\" x=\"1052.5\" y=\"-37.8\" font-family=\"Helvetica,sans-Serif\" font-size=\"14.00\" fill=\"#000000\">samples = 5320</text>\n",
       "<text text-anchor=\"start\" x=\"1042.5\" y=\"-22.8\" font-family=\"Helvetica,sans-Serif\" font-size=\"14.00\" fill=\"#000000\">value = [538, 4782]</text>\n",
       "<text text-anchor=\"start\" x=\"1075.5\" y=\"-7.8\" font-family=\"Helvetica,sans-Serif\" font-size=\"14.00\" fill=\"#000000\">class = e</text>\n",
       "</g>\n",
       "<!-- 12&#45;&gt;13 -->\n",
       "<g id=\"edge13\" class=\"edge\">\n",
       "<title>12&#45;&gt;13</title>\n",
       "<path fill=\"none\" stroke=\"#000000\" d=\"M1104.5,-103.9815C1104.5,-95.618 1104.5,-86.7965 1104.5,-78.3409\"/>\n",
       "<polygon fill=\"#000000\" stroke=\"#000000\" points=\"1108.0001,-78.2636 1104.5,-68.2637 1101.0001,-78.2637 1108.0001,-78.2636\"/>\n",
       "</g>\n",
       "<!-- 14 -->\n",
       "<g id=\"node15\" class=\"node\">\n",
       "<title>14</title>\n",
       "<path fill=\"#5baeea\" stroke=\"#000000\" d=\"M1320.5,-68C1320.5,-68 1204.5,-68 1204.5,-68 1198.5,-68 1192.5,-62 1192.5,-56 1192.5,-56 1192.5,-12 1192.5,-12 1192.5,-6 1198.5,0 1204.5,0 1204.5,0 1320.5,0 1320.5,0 1326.5,0 1332.5,-6 1332.5,-12 1332.5,-12 1332.5,-56 1332.5,-56 1332.5,-62 1326.5,-68 1320.5,-68\"/>\n",
       "<text text-anchor=\"start\" x=\"1224.5\" y=\"-52.8\" font-family=\"Helvetica,sans-Serif\" font-size=\"14.00\" fill=\"#000000\">gini = 0.252</text>\n",
       "<text text-anchor=\"start\" x=\"1210.5\" y=\"-37.8\" font-family=\"Helvetica,sans-Serif\" font-size=\"14.00\" fill=\"#000000\">samples = 5106</text>\n",
       "<text text-anchor=\"start\" x=\"1200.5\" y=\"-22.8\" font-family=\"Helvetica,sans-Serif\" font-size=\"14.00\" fill=\"#000000\">value = [756, 4350]</text>\n",
       "<text text-anchor=\"start\" x=\"1233.5\" y=\"-7.8\" font-family=\"Helvetica,sans-Serif\" font-size=\"14.00\" fill=\"#000000\">class = e</text>\n",
       "</g>\n",
       "<!-- 12&#45;&gt;14 -->\n",
       "<g id=\"edge14\" class=\"edge\">\n",
       "<title>12&#45;&gt;14</title>\n",
       "<path fill=\"none\" stroke=\"#000000\" d=\"M1163.3334,-103.9815C1177.211,-94.1881 1191.9784,-83.7668 1205.7614,-74.0402\"/>\n",
       "<polygon fill=\"#000000\" stroke=\"#000000\" points=\"1208.0469,-76.7111 1214.1993,-68.0856 1204.0108,-70.9918 1208.0469,-76.7111\"/>\n",
       "</g>\n",
       "</g>\n",
       "</svg>\n"
      ],
      "text/plain": [
       "<graphviz.files.Source at 0x7f8a1dfd12e8>"
      ]
     },
     "execution_count": 55,
     "metadata": {
      "tags": []
     },
     "output_type": "execute_result"
    }
   ],
   "source": [
    "import graphviz \n",
    "from sklearn import tree\n",
    "dot_data = tree.export_graphviz(clf, out_file=None, \n",
    "                      feature_names=data.iloc[:,data.columns.isin(idvs)].columns,  \n",
    "                      class_names=\"health\",  \n",
    "                      filled=True, rounded=True,  \n",
    "                      special_characters=True)  \n",
    "graph = graphviz.Source(dot_data)  \n",
    "graph "
   ]
  },
  {
   "cell_type": "markdown",
   "metadata": {
    "colab_type": "text",
    "id": "BTpwokwdvttf"
   },
   "source": [
    "# 6. PSID + HRS data"
   ]
  },
  {
   "cell_type": "code",
   "execution_count": 0,
   "metadata": {
    "colab": {},
    "colab_type": "code",
    "collapsed": true,
    "id": "Aw2YoUdcUvFu"
   },
   "outputs": [],
   "source": [
    "psid = psid.drop(columns='state')\n",
    "psid = psid[psid.waveyear>1994]\n",
    "psid['wave'] = 4+(psid.waveyear-1999)/2"
   ]
  },
  {
   "cell_type": "code",
   "execution_count": 0,
   "metadata": {
    "colab": {
     "base_uri": "https://localhost:8080/",
     "height": 218
    },
    "colab_type": "code",
    "id": "_zs_IxQEI4Gy",
    "outputId": "32c06b9c-a7e5-415c-c3ed-9feeaa14f2a3"
   },
   "outputs": [
    {
     "name": "stderr",
     "output_type": "stream",
     "text": [
      "/usr/local/lib/python3.6/dist-packages/ipykernel_launcher.py:2: SettingWithCopyWarning: \n",
      "A value is trying to be set on a copy of a slice from a DataFrame.\n",
      "Try using .loc[row_indexer,col_indexer] = value instead\n",
      "\n",
      "See the caveats in the documentation: https://pandas.pydata.org/pandas-docs/stable/user_guide/indexing.html#returning-a-view-versus-a-copy\n",
      "  \n",
      "/usr/local/lib/python3.6/dist-packages/ipykernel_launcher.py:3: SettingWithCopyWarning: \n",
      "A value is trying to be set on a copy of a slice from a DataFrame.\n",
      "Try using .loc[row_indexer,col_indexer] = value instead\n",
      "\n",
      "See the caveats in the documentation: https://pandas.pydata.org/pandas-docs/stable/user_guide/indexing.html#returning-a-view-versus-a-copy\n",
      "  This is separate from the ipykernel package so we can avoid doing imports until\n"
     ]
    }
   ],
   "source": [
    "hrs = data[['age','health','stock','medexp','nhfw','income','health_var']]\n",
    "hrs['house'] = data['tw'] - data['nhw']\n",
    "hrs['wave'] = hrs.health_var.str[1].astype(int)\n",
    "hrs = hrs[hrs.wave>3].rename(columns={\"medexp\":\"medicaldebt\", \"nhfw\":\"financialwealth\", 'income':'labor'})"
   ]
  },
  {
   "cell_type": "code",
   "execution_count": 0,
   "metadata": {
    "colab": {},
    "colab_type": "code",
    "collapsed": true,
    "id": "4Mb0SckUAm6R"
   },
   "outputs": [],
   "source": [
    "ds = pd.concat([psid[['age','health','stock','medicaldebt','house','financialwealth','labor','wave']], \\\n",
    "                hrs[['age','health','stock','medicaldebt','house','financialwealth','labor','wave']]], axis=0)"
   ]
  },
  {
   "cell_type": "code",
   "execution_count": 0,
   "metadata": {
    "colab": {
     "base_uri": "https://localhost:8080/",
     "height": 168
    },
    "colab_type": "code",
    "id": "DBdcCbCTHsL4",
    "outputId": "21d0af68-4f1a-4a1b-dc48-1dc2d3a566b3"
   },
   "outputs": [
    {
     "data": {
      "text/plain": [
       "age                0.00000\n",
       "health             0.03961\n",
       "stock              0.00000\n",
       "medicaldebt        0.00000\n",
       "house              0.00000\n",
       "financialwealth    0.00000\n",
       "labor              0.00000\n",
       "wave               0.00000\n",
       "dtype: float64"
      ]
     },
     "execution_count": 94,
     "metadata": {
      "tags": []
     },
     "output_type": "execute_result"
    }
   ],
   "source": [
    "ds.isnull().sum() * 100 / len(data_idvs)"
   ]
  },
  {
   "cell_type": "code",
   "execution_count": 0,
   "metadata": {
    "colab": {},
    "colab_type": "code",
    "collapsed": true,
    "id": "TnrU48_DJJqx"
   },
   "outputs": [],
   "source": [
    "ds['dv'] = ds.health>3"
   ]
  },
  {
   "cell_type": "code",
   "execution_count": 0,
   "metadata": {
    "colab": {},
    "colab_type": "code",
    "collapsed": true,
    "id": "YflhfpZbId6D"
   },
   "outputs": [],
   "source": [
    "ds = ds[ds.dv.notnull()]"
   ]
  },
  {
   "cell_type": "code",
   "execution_count": 0,
   "metadata": {
    "colab": {
     "base_uri": "https://localhost:8080/",
     "height": 50
    },
    "colab_type": "code",
    "id": "dYxAh3dLId6O",
    "outputId": "e7acf4fd-9e1a-408c-8a72-1d28ee3d0a08"
   },
   "outputs": [
    {
     "data": {
      "text/plain": [
       "array([[1.        , 0.20055489],\n",
       "       [0.20055489, 1.        ]])"
      ]
     },
     "execution_count": 103,
     "metadata": {
      "tags": []
     },
     "output_type": "execute_result"
    }
   ],
   "source": [
    "np.corrcoef(ds.dv, ds.age)"
   ]
  },
  {
   "cell_type": "code",
   "execution_count": 0,
   "metadata": {
    "colab": {},
    "colab_type": "code",
    "collapsed": true,
    "id": "reDW9yGmLH5G"
   },
   "outputs": [],
   "source": [
    "from sklearn.preprocessing import StandardScaler\n",
    "scaler = StandardScaler()\n",
    "scaler.fit(ds[ds.wave==4][['age','dv','stock','medicaldebt','house','financialwealth','labor']])\n",
    "ds_scaled = scaler.transform(ds[ds.wave==4][['age','dv','stock','medicaldebt','house','financialwealth','labor']])"
   ]
  },
  {
   "cell_type": "code",
   "execution_count": 0,
   "metadata": {
    "colab": {},
    "colab_type": "code",
    "collapsed": true,
    "id": "x2IoD4tyId6b"
   },
   "outputs": [],
   "source": [
    "from sklearn.cluster import KMeans"
   ]
  },
  {
   "cell_type": "code",
   "execution_count": 0,
   "metadata": {
    "colab": {},
    "colab_type": "code",
    "collapsed": true,
    "id": "k5EsBjNIId6e"
   },
   "outputs": [],
   "source": [
    "Ks = range(1, 10)\n",
    "km = [KMeans(n_clusters=i) for i in Ks]\n",
    "score = [km[i].fit(ds_scaled).score(ds_scaled) for i in range(len(km))]"
   ]
  },
  {
   "cell_type": "code",
   "execution_count": 0,
   "metadata": {
    "colab": {
     "base_uri": "https://localhost:8080/",
     "height": 282
    },
    "colab_type": "code",
    "id": "LPUBAxHzId6h",
    "outputId": "8de341bf-de26-442d-faca-2b45c6260a53"
   },
   "outputs": [
    {
     "data": {
      "text/plain": [
       "[<matplotlib.lines.Line2D at 0x7f8a17be0358>]"
      ]
     },
     "execution_count": 110,
     "metadata": {
      "tags": []
     },
     "output_type": "execute_result"
    },
    {
     "data": {
      "image/png": "[encoded data removed]",
      "text/plain": [
       "<Figure size 432x288 with 1 Axes>"
      ]
     },
     "metadata": {
      "needs_background": "light",
      "tags": []
     },
     "output_type": "display_data"
    }
   ],
   "source": [
    "plt.plot(Ks, score)"
   ]
  },
  {
   "cell_type": "code",
   "execution_count": 0,
   "metadata": {
    "colab": {},
    "colab_type": "code",
    "collapsed": true,
    "id": "xX1t_fMoId6k"
   },
   "outputs": [],
   "source": [
    "num_clusters = 3\n",
    "cluster = KMeans(n_clusters = num_clusters)\n",
    "idx = cluster.fit_predict(ds_scaled)"
   ]
  },
  {
   "cell_type": "code",
   "execution_count": 0,
   "metadata": {
    "colab": {
     "base_uri": "https://localhost:8080/",
     "height": 136
    },
    "colab_type": "code",
    "id": "nadb2bwDId6m",
    "outputId": "5b3a9cfd-de8c-4a79-8d9f-2ff642c557d3"
   },
   "outputs": [
    {
     "data": {
      "text/html": [
       "<div>\n",
       "<style scoped>\n",
       "    .dataframe tbody tr th:only-of-type {\n",
       "        vertical-align: middle;\n",
       "    }\n",
       "\n",
       "    .dataframe tbody tr th {\n",
       "        vertical-align: top;\n",
       "    }\n",
       "\n",
       "    .dataframe thead th {\n",
       "        text-align: right;\n",
       "    }\n",
       "</style>\n",
       "<table border=\"1\" class=\"dataframe\">\n",
       "  <thead>\n",
       "    <tr style=\"text-align: right;\">\n",
       "      <th></th>\n",
       "      <th>age</th>\n",
       "      <th>dv</th>\n",
       "      <th>stock</th>\n",
       "      <th>medicaldebt</th>\n",
       "      <th>house</th>\n",
       "      <th>financialwealth</th>\n",
       "      <th>labor</th>\n",
       "    </tr>\n",
       "  </thead>\n",
       "  <tbody>\n",
       "    <tr>\n",
       "      <th>0</th>\n",
       "      <td>-0.0</td>\n",
       "      <td>-0.6</td>\n",
       "      <td>0.0</td>\n",
       "      <td>-0.3</td>\n",
       "      <td>0.1</td>\n",
       "      <td>0.0</td>\n",
       "      <td>0.1</td>\n",
       "    </tr>\n",
       "    <tr>\n",
       "      <th>1</th>\n",
       "      <td>0.4</td>\n",
       "      <td>1.6</td>\n",
       "      <td>-0.1</td>\n",
       "      <td>-0.3</td>\n",
       "      <td>-0.1</td>\n",
       "      <td>-0.1</td>\n",
       "      <td>-0.2</td>\n",
       "    </tr>\n",
       "    <tr>\n",
       "      <th>2</th>\n",
       "      <td>-0.7</td>\n",
       "      <td>-0.2</td>\n",
       "      <td>-0.1</td>\n",
       "      <td>2.9</td>\n",
       "      <td>-0.2</td>\n",
       "      <td>-0.0</td>\n",
       "      <td>-0.2</td>\n",
       "    </tr>\n",
       "  </tbody>\n",
       "</table>\n",
       "</div>"
      ],
      "text/plain": [
       "   age   dv  stock  medicaldebt  house  financialwealth  labor\n",
       "0 -0.0 -0.6    0.0         -0.3    0.1              0.0    0.1\n",
       "1  0.4  1.6   -0.1         -0.3   -0.1             -0.1   -0.2\n",
       "2 -0.7 -0.2   -0.1          2.9   -0.2             -0.0   -0.2"
      ]
     },
     "execution_count": 112,
     "metadata": {
      "tags": []
     },
     "output_type": "execute_result"
    }
   ],
   "source": [
    "c = pd.DataFrame(cluster.cluster_centers_)\n",
    "c.columns = ['age','dv','stock','medicaldebt','house','financialwealth','labor']\n",
    "round(c, 1)"
   ]
  },
  {
   "cell_type": "code",
   "execution_count": 0,
   "metadata": {
    "colab": {
     "base_uri": "https://localhost:8080/",
     "height": 225
    },
    "colab_type": "code",
    "id": "_D5wT4WjId6q",
    "outputId": "4ef6cfc8-e59a-453d-a083-3f3429bedd87"
   },
   "outputs": [
    {
     "data": {
      "text/html": [
       "<div>\n",
       "<style scoped>\n",
       "    .dataframe tbody tr th:only-of-type {\n",
       "        vertical-align: middle;\n",
       "    }\n",
       "\n",
       "    .dataframe tbody tr th {\n",
       "        vertical-align: top;\n",
       "    }\n",
       "\n",
       "    .dataframe thead th {\n",
       "        text-align: right;\n",
       "    }\n",
       "</style>\n",
       "<table border=\"1\" class=\"dataframe\">\n",
       "  <thead>\n",
       "    <tr style=\"text-align: right;\">\n",
       "      <th></th>\n",
       "      <th>R1AGEY_B</th>\n",
       "      <th>RAGENDER</th>\n",
       "      <th>RAEDYRS</th>\n",
       "      <th>R1MSTAT</th>\n",
       "      <th>R1IWSTAT</th>\n",
       "      <th>H1ITOT</th>\n",
       "      <th>NHFW1</th>\n",
       "      <th>TW1</th>\n",
       "      <th>NHW1</th>\n",
       "    </tr>\n",
       "    <tr>\n",
       "      <th>R1SHLT</th>\n",
       "      <th></th>\n",
       "      <th></th>\n",
       "      <th></th>\n",
       "      <th></th>\n",
       "      <th></th>\n",
       "      <th></th>\n",
       "      <th></th>\n",
       "      <th></th>\n",
       "      <th></th>\n",
       "    </tr>\n",
       "  </thead>\n",
       "  <tbody>\n",
       "    <tr>\n",
       "      <th>1.0</th>\n",
       "      <td>54.264339</td>\n",
       "      <td>1.545422</td>\n",
       "      <td>13.220164</td>\n",
       "      <td>1.764874</td>\n",
       "      <td>1</td>\n",
       "      <td>65056.657998</td>\n",
       "      <td>71314.027306</td>\n",
       "      <td>311231.421106</td>\n",
       "      <td>226778.398839</td>\n",
       "    </tr>\n",
       "    <tr>\n",
       "      <th>2.0</th>\n",
       "      <td>54.977305</td>\n",
       "      <td>1.546969</td>\n",
       "      <td>12.837690</td>\n",
       "      <td>1.819018</td>\n",
       "      <td>1</td>\n",
       "      <td>55291.214881</td>\n",
       "      <td>68865.904120</td>\n",
       "      <td>263837.052067</td>\n",
       "      <td>193860.915037</td>\n",
       "    </tr>\n",
       "    <tr>\n",
       "      <th>3.0</th>\n",
       "      <td>55.534989</td>\n",
       "      <td>1.517777</td>\n",
       "      <td>11.692720</td>\n",
       "      <td>1.939616</td>\n",
       "      <td>1</td>\n",
       "      <td>42506.883747</td>\n",
       "      <td>37414.388227</td>\n",
       "      <td>171819.704319</td>\n",
       "      <td>117677.086462</td>\n",
       "    </tr>\n",
       "    <tr>\n",
       "      <th>4.0</th>\n",
       "      <td>56.108467</td>\n",
       "      <td>1.552297</td>\n",
       "      <td>10.566132</td>\n",
       "      <td>2.329828</td>\n",
       "      <td>1</td>\n",
       "      <td>29474.258993</td>\n",
       "      <td>27531.102042</td>\n",
       "      <td>120569.038860</td>\n",
       "      <td>78318.359946</td>\n",
       "    </tr>\n",
       "    <tr>\n",
       "      <th>5.0</th>\n",
       "      <td>56.441700</td>\n",
       "      <td>1.509881</td>\n",
       "      <td>9.597826</td>\n",
       "      <td>2.586957</td>\n",
       "      <td>1</td>\n",
       "      <td>21069.083004</td>\n",
       "      <td>11196.053412</td>\n",
       "      <td>70355.628405</td>\n",
       "      <td>39144.129898</td>\n",
       "    </tr>\n",
       "  </tbody>\n",
       "</table>\n",
       "</div>"
      ],
      "text/plain": [
       "         R1AGEY_B  RAGENDER  ...            TW1           NHW1\n",
       "R1SHLT                       ...                              \n",
       "1.0     54.264339  1.545422  ...  311231.421106  226778.398839\n",
       "2.0     54.977305  1.546969  ...  263837.052067  193860.915037\n",
       "3.0     55.534989  1.517777  ...  171819.704319  117677.086462\n",
       "4.0     56.108467  1.552297  ...  120569.038860   78318.359946\n",
       "5.0     56.441700  1.509881  ...   70355.628405   39144.129898\n",
       "\n",
       "[5 rows x 9 columns]"
      ]
     },
     "execution_count": 37,
     "metadata": {
      "tags": []
     },
     "output_type": "execute_result"
    }
   ],
   "source": [
    "ds[ds.wave==4][['age','dv','stock','medicaldebt','house','financialwealth','labor']].groupby(\"R1SHLT\").mean()"
   ]
  }
 ],
 "metadata": {
  "colab": {
   "collapsed_sections": [],
   "machine_shape": "hm",
   "name": "DVA project - HRS.ipynb",
   "provenance": [],
   "toc_visible": true
  },
  "kernelspec": {
   "display_name": "Python 3",
   "language": "python",
   "name": "python3"
  },
  "language_info": {
   "codemirror_mode": {
    "name": "ipython",
    "version": 3
   },
   "file_extension": ".py",
   "mimetype": "text/x-python",
   "name": "python",
   "nbconvert_exporter": "python",
   "pygments_lexer": "ipython3",
   "version": "3.6.3"
  }
 },
 "nbformat": 4,
 "nbformat_minor": 1
}
